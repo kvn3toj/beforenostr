{
  "cells": [
    {
      "cell_type": "code",
      "execution_count": null,
      "metadata": {
        "vscode": {
          "languageId": "plaintext"
        }
      },
      "outputs": [],
      "source": [
        "# 📊 CoomÜnity Beta Program - Análisis de Datos\n",
        "\n",
        "Este notebook utiliza las nuevas capacidades de **Cursor v1.0 Agent en Jupyter** para analizar el programa beta de CoomÜnity.\n",
        "\n",
        "## 🎯 Objetivos del Análisis\n",
        "1. **Análisis demográfico** de candidatos beta\n",
        "2. **Distribución geográfica** y de idiomas\n",
        "3. **Métricas de experiencia cooperativa**\n",
        "4. **Predicciones de adopción** basadas en Ayni\n",
        "5. **Insights para crecimiento orgánico**\n"
      ]
    },
    {
      "cell_type": "code",
      "execution_count": null,
      "metadata": {},
      "outputs": [],
      "source": [
        "# Configuración inicial y importación de librerías\n",
        "import pandas as pd\n",
        "import numpy as np\n",
        "import matplotlib.pyplot as plt\n",
        "import seaborn as sns\n",
        "from datetime import datetime, timedelta\n",
        "import warnings\n",
        "warnings.filterwarnings('ignore')\n",
        "\n",
        "# Configuración de visualización\n",
        "plt.style.use('seaborn-v0_8')\n",
        "sns.set_palette(\"husl\")\n",
        "plt.rcParams['figure.figsize'] = (12, 8)\n",
        "plt.rcParams['font.size'] = 10\n",
        "\n",
        "print(\"✅ Librerías importadas exitosamente\")\n",
        "print(f\"📅 Análisis ejecutado: {datetime.now().strftime('%Y-%m-%d %H:%M:%S')}\")\n"
      ]
    }
  ],
  "metadata": {
    "language_info": {
      "name": "python"
    }
  },
  "nbformat": 4,
  "nbformat_minor": 2
}
